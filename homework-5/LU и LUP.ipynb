{
  "metadata": {
    "kernelspec": {
      "name": "python",
      "display_name": "Pyolite",
      "language": "python"
    },
    "language_info": {
      "codemirror_mode": {
        "name": "python",
        "version": 3
      },
      "file_extension": ".py",
      "mimetype": "text/x-python",
      "name": "python",
      "nbconvert_exporter": "python",
      "pygments_lexer": "ipython3",
      "version": "3.8"
    }
  },
  "nbformat_minor": 5,
  "nbformat": 4,
  "cells": [
    {
      "cell_type": "markdown",
      "source": "# LU-разложение и LUP-разложение",
      "metadata": {},
      "id": "76963698"
    },
    {
      "cell_type": "markdown",
      "source": "<h3>Царитова Нина ",
      "metadata": {},
      "id": "e2bf47f1"
    },
    {
      "cell_type": "code",
      "source": "import numpy as np",
      "metadata": {
        "trusted": true
      },
      "execution_count": 2,
      "outputs": [],
      "id": "efaf3bce"
    },
    {
      "cell_type": "markdown",
      "source": "## LU-разложение",
      "metadata": {},
      "id": "a1f83950"
    },
    {
      "cell_type": "markdown",
      "source": "<h0>- это представление этой матрицы в виде произведения A = LU, где L - нижняя треугольная матрица, U - верхняя треугольная ступенчатая матрица.",
      "metadata": {},
      "id": "c081dbb4-a893-408c-b3e6-9d52c8b50ef8"
    },
    {
      "cell_type": "markdown",
      "source": "Функция «LU_decomposition» раскладывает квадратную матрицу А на матрицы L и U ",
      "metadata": {},
      "id": "ed99e22a"
    },
    {
      "cell_type": "code",
      "source": "def LU_decomposition(A):\n    n = A.shape[0]\n    L = np.identity(n)\n    U = A.copy()\n    \n    for i in range(n):\n        multiplier = U[i + 1 :, i] / U[i, i]\n        L[i + 1 :, i] += multiplier\n        multiplier.resize(multiplier.size, 1)\n        U[i + 1 :] -= multiplier * U[i]\n        \n    return L, U",
      "metadata": {
        "trusted": true
      },
      "execution_count": 3,
      "outputs": [],
      "id": "69183c25"
    },
    {
      "cell_type": "markdown",
      "source": "Задаём квадратную матрицу 3x3",
      "metadata": {},
      "id": "02b814ee"
    },
    {
      "cell_type": "code",
      "source": "A = np.array([[10, 20, 30.], \n              [0, -50, 60.], \n              [70, 80, 90.]])",
      "metadata": {
        "trusted": true
      },
      "execution_count": 4,
      "outputs": [],
      "id": "54d817c4"
    },
    {
      "cell_type": "markdown",
      "source": "Проверяем работу функции",
      "metadata": {},
      "id": "1af43f43"
    },
    {
      "cell_type": "code",
      "source": "print('L =\\n', L)\nprint('U =\\n', U)",
      "metadata": {
        "trusted": true
      },
      "execution_count": 34,
      "outputs": [
        {
          "name": "stdout",
          "text": "L =\n [[1.  0.  0. ]\n [0.  1.  0. ]\n [7.  1.2 1. ]]\nU =\n [[  10.   20.   30.]\n [   0.  -50.   60.]\n [   0.    0. -192.]]\n",
          "output_type": "stream"
        }
      ],
      "id": "7aaf751a"
    },
    {
      "cell_type": "markdown",
      "source": "Проверяем А = LU",
      "metadata": {},
      "id": "efda9698"
    },
    {
      "cell_type": "code",
      "source": "L, U = LU_decomposition(A)\nprint(A == L.dot(U))",
      "metadata": {
        "trusted": true
      },
      "execution_count": 33,
      "outputs": [
        {
          "name": "stdout",
          "text": "[[ True  True  True]\n [ True  True  True]\n [ True  True  True]]\n",
          "output_type": "stream"
        }
      ],
      "id": "df1b7847"
    },
    {
      "cell_type": "markdown",
      "source": "Функция «SLAE_LU» находит решение СЛАУ с помощью LU-разложения. Функция принимает матрицу А и вектор-столбец х, возвращает вектор-столбец решений с округлением до сотых",
      "metadata": {},
      "id": "b3bb79aa"
    },
    {
      "cell_type": "code",
      "source": "# y = Ux\n# b = Ly\n\ndef SLAE_LU(A, b): \n    \n    L, U = LU_decomposition(A)\n    n = L.shape[0]\n    y = np.zeros_like(b, dtype=np.double) # Возвращает массив нулей той же формы и типа, что и заданный массив\n    y[0] = b[0] / L[0, 0] # y1 = b1/l11\n    for i in range(n):\n        y[i] = (b[i] - np.dot(L[i,:i], y[:i])) / L[i,i] # (bi - sum(from 1 to i-1)(Lij*yj))/Lii\n\n    m = L.shape[0]\n    x = np.zeros_like(y, dtype=np.double)\n    x[-1] = y[-1] / U[-1, -1] # # ym = bm/lm\n    \n    for i in range(m-2, -1, -1):\n        x[i] = (y[i] - np.dot(U[i,i:], x[i:])) / U[i,i] # (yi - sum(from i+1 to m)(Uij*xj))/Uii\n\n    return np.round(x, 2)",
      "metadata": {
        "trusted": true
      },
      "execution_count": 7,
      "outputs": [],
      "id": "7e732fc4"
    },
    {
      "cell_type": "markdown",
      "source": "Задаём вектор-столбец",
      "metadata": {},
      "id": "12c01203"
    },
    {
      "cell_type": "code",
      "source": "b = np.array([[30], \n              [20], \n              [10]])",
      "metadata": {
        "trusted": true
      },
      "execution_count": 8,
      "outputs": [],
      "id": "d5db8a3e"
    },
    {
      "cell_type": "markdown",
      "source": "Проверяем работу функции",
      "metadata": {},
      "id": "c9653dc7"
    },
    {
      "cell_type": "code",
      "source": "print(SLAE_LU(A, b))",
      "metadata": {
        "trusted": true
      },
      "execution_count": 32,
      "outputs": [
        {
          "name": "stdout",
          "text": "[[-2.5 ]\n [ 1.  ]\n [ 1.17]]\n",
          "output_type": "stream"
        }
      ],
      "id": "11d1eb77"
    },
    {
      "cell_type": "markdown",
      "source": "Проверяем, совпадает ли результат при использовании linalg.solve",
      "metadata": {},
      "id": "7ddbbcf0"
    },
    {
      "cell_type": "code",
      "source": "print(np.round(np.linalg.solve(A, b), 2))",
      "metadata": {
        "trusted": true
      },
      "execution_count": 31,
      "outputs": [
        {
          "name": "stdout",
          "text": "[[-2.5 ]\n [ 1.  ]\n [ 1.17]]\n",
          "output_type": "stream"
        }
      ],
      "id": "29c69f91"
    },
    {
      "cell_type": "markdown",
      "source": "Проверяем, совпадает ли результат при использовании lu_factor и lu_solve библиотеки scipy.linalg",
      "metadata": {},
      "id": "d4973c21"
    },
    {
      "cell_type": "code",
      "source": "from scipy.linalg import lu_factor, lu_solve\nprint(np.round(lu_solve(lu_factor(A), b), 2))",
      "metadata": {
        "trusted": true
      },
      "execution_count": 35,
      "outputs": [
        {
          "name": "stdout",
          "text": "[[-2.5 ]\n [ 1.  ]\n [ 1.17]]\n",
          "output_type": "stream"
        }
      ],
      "id": "14ade31d"
    },
    {
      "cell_type": "markdown",
      "source": "## LUP-разложение",
      "metadata": {},
      "id": "81872e54"
    },
    {
      "cell_type": "markdown",
      "source": "<h0>- это представление этой матрицы в виде PA = LU, где L - нижняя треугольная матрица, U - верхняя треугольная ступенчатая матрица, P - матрица перестановок.",
      "metadata": {},
      "id": "0bedc4a9-7b62-4013-8582-3178bb63c7c9"
    },
    {
      "cell_type": "markdown",
      "source": "Функция «swap_rows» меняет местами строки в матрице",
      "metadata": {},
      "id": "36e083e0"
    },
    {
      "cell_type": "code",
      "source": "def swap_rows(A, a, b):\n    t = np.copy(A[a])\n    A[a] = A[b]\n    A[b] = t",
      "metadata": {
        "trusted": true
      },
      "execution_count": 12,
      "outputs": [],
      "id": "1da0b1ae"
    },
    {
      "cell_type": "markdown",
      "source": "Функция «swap_cols» меняет местами столбцы в матрице",
      "metadata": {},
      "id": "60f4c605"
    },
    {
      "cell_type": "code",
      "source": "def swap_cols(A, a, b):\n    A = np.transpose(A)\n    A = swap_rows(A, a, b)\n    return np.transpose(A)",
      "metadata": {
        "trusted": true
      },
      "execution_count": 13,
      "outputs": [],
      "id": "b27b9516"
    },
    {
      "cell_type": "markdown",
      "source": "Функция «LUP_decomposition» раскладывает квадратную матрицу А на матрицы L (нижняя треугольная), U (верхняя треугольная) и P (матрица перестановок)",
      "metadata": {},
      "id": "191e674d"
    },
    {
      "cell_type": "code",
      "source": "def LUP_decomposition(A):\n    n = A.shape[0]\n    L = np.identity(n)\n    U = np.copy(A)\n    P = np.identity(n)\n    \n    for a in range(n):\n        b = a + 1\n        while U[a][a] == 0:\n            swap_rows(U, a, b)\n            swap_rows(P, a, b)\n            swap_rows(L, a, b)\n            swap_cols(L, a, b)\n            b += 1\n        \n        multiplier = U[a + 1 :, a] / U[a, a]\n        L[a + 1 :, a] += multiplier\n        multiplier.resize(multiplier.size, 1)\n        U[a + 1 :] -= multiplier * U[a]\n        \n    return L, U, P",
      "metadata": {
        "trusted": true
      },
      "execution_count": 14,
      "outputs": [],
      "id": "2ccb043f"
    },
    {
      "cell_type": "markdown",
      "source": "Проверяем работу функции при тех же входных данных",
      "metadata": {},
      "id": "c93a40df"
    },
    {
      "cell_type": "code",
      "source": "L, U, P =LUP_decomposition(A)\nprint('L =\\n', L)\nprint('U =\\n', U)\nprint('P =\\n', P)",
      "metadata": {
        "trusted": true
      },
      "execution_count": 36,
      "outputs": [
        {
          "name": "stdout",
          "text": "L =\n [[1.  0.  0. ]\n [0.  1.  0. ]\n [7.  1.2 1. ]]\nU =\n [[  10.   20.   30.]\n [   0.  -50.   60.]\n [   0.    0. -192.]]\nP =\n [[1. 0. 0.]\n [0. 1. 0.]\n [0. 0. 1.]]\n",
          "output_type": "stream"
        }
      ],
      "id": "7ce42bce"
    },
    {
      "cell_type": "markdown",
      "source": "Проверяем А = PLU",
      "metadata": {},
      "id": "410ad8d8"
    },
    {
      "cell_type": "code",
      "source": "L, U, P = LUP_decomposition(A)\nprint(A == P.dot(L.dot(U)))",
      "metadata": {
        "trusted": true
      },
      "execution_count": 37,
      "outputs": [
        {
          "name": "stdout",
          "text": "[[ True  True  True]\n [ True  True  True]\n [ True  True  True]]\n",
          "output_type": "stream"
        }
      ],
      "id": "1d97bd1c"
    },
    {
      "cell_type": "markdown",
      "source": "Проверяем PА = LU",
      "metadata": {},
      "id": "a4086e6d"
    },
    {
      "cell_type": "code",
      "source": "print(P.dot(A) == L.dot(U))",
      "metadata": {
        "trusted": true
      },
      "execution_count": 38,
      "outputs": [
        {
          "name": "stdout",
          "text": "[[ True  True  True]\n [ True  True  True]\n [ True  True  True]]\n",
          "output_type": "stream"
        }
      ],
      "id": "86be471d"
    },
    {
      "cell_type": "markdown",
      "source": "Функция «SLAE_LUP» находит решение СЛАУ с помощью LUP-разложения. Функция принимает матрицу А и вектор-столбец х, возвращает вектор-столбец решений с округлением до сотых",
      "metadata": {},
      "id": "cffeaebd"
    },
    {
      "cell_type": "code",
      "source": "def LUP(A, b):\n    L, U, P = LUP_decomposition(A)\n    b = P.dot(b)\n    n = L.shape[0]\n    y = np.zeros_like(b, dtype=np.double) # Возвращает массив нулей той же формы и типа, что и заданный массив\n    \n    y[0] = b[0] / L[0, 0] # y1 = b1/l11\n    \n    for i in range(n):\n        y[i] = (b[i] - np.dot(L[i,:i], y[:i])) / L[i,i] # (bi - sum(from 1 to i-1)(Lij*yj))/Lii\n    m = L.shape[0]\n    x = np.zeros_like(y, dtype=np.double)\n    x[-1] = y[-1] / U[-1, -1] # # ym = bm/lm\n    \n    for i in range(m-2, -1, -1):\n        x[i] = (y[i] - np.dot(U[i,i:], x[i:])) / U[i,i] # (yi - sum(from i+1 to m)(Uij*xj))/Uii\n\n    return np.round(x, 2)",
      "metadata": {
        "trusted": true
      },
      "execution_count": 40,
      "outputs": [],
      "id": "06ebbe6a"
    },
    {
      "cell_type": "markdown",
      "source": "Проверяем работу функции",
      "metadata": {},
      "id": "71e29b88"
    },
    {
      "cell_type": "code",
      "source": "print(LUP(A, b))",
      "metadata": {
        "trusted": true
      },
      "execution_count": 41,
      "outputs": [
        {
          "name": "stdout",
          "text": "[[-2.5 ]\n [ 1.  ]\n [ 1.17]]\n",
          "output_type": "stream"
        }
      ],
      "id": "622ebd8d"
    },
    {
      "cell_type": "markdown",
      "source": "Проверяем, совпадает ли результат при использовании linalg.solve",
      "metadata": {},
      "id": "9197ea62"
    },
    {
      "cell_type": "code",
      "source": "print(np.round(np.linalg.solve(A, b), 2))",
      "metadata": {
        "trusted": true
      },
      "execution_count": 42,
      "outputs": [
        {
          "name": "stdout",
          "text": "[[-2.5 ]\n [ 1.  ]\n [ 1.17]]\n",
          "output_type": "stream"
        }
      ],
      "id": "6ca5ee76"
    },
    {
      "cell_type": "markdown",
      "source": "Проверяем, совпадает ли результат при использовании lu_factor и lu_solve библиотеки scipy.linalg",
      "metadata": {},
      "id": "ec72ef80"
    },
    {
      "cell_type": "code",
      "source": "print(np.round(lu_solve(lu_factor(A), b), 2))",
      "metadata": {
        "trusted": true
      },
      "execution_count": 43,
      "outputs": [
        {
          "name": "stdout",
          "text": "[[-2.5 ]\n [ 1.  ]\n [ 1.17]]\n",
          "output_type": "stream"
        }
      ],
      "id": "80631ec5"
    },
    {
      "cell_type": "markdown",
      "source": "## Сравнение LU и LUP",
      "metadata": {},
      "id": "699a0a76"
    },
    {
      "cell_type": "markdown",
      "source": "Поменяем местами строки в матрице так, чтобы на главной диагонали появился 0",
      "metadata": {},
      "id": "446f8690"
    },
    {
      "cell_type": "code",
      "source": "swap_rows(A, 0, 1)",
      "metadata": {
        "trusted": true
      },
      "execution_count": 22,
      "outputs": [],
      "id": "c9827924"
    },
    {
      "cell_type": "markdown",
      "source": "Можем заметить, что с помощью LU-разложения мы не можем разложить такую матрицу А на матрицы L и U, поскольку ведущий элемент на главной диагонали матрицы А равен нулю и при приведении матрицы А к ступенчатому виду происходит деление на 0",
      "metadata": {},
      "id": "a48e0df4"
    },
    {
      "cell_type": "code",
      "source": "L, U = LU_decomposition(A)\nprint('L =\\n', L)\nprint('U =\\n', U)",
      "metadata": {
        "trusted": true
      },
      "execution_count": 46,
      "outputs": [
        {
          "name": "stdout",
          "text": "L =\n [[1.  0.  0. ]\n [0.  1.  0. ]\n [7.  1.2 1. ]]\nU =\n [[  10.   20.   30.]\n [   0.  -50.   60.]\n [   0.    0. -192.]]\n",
          "output_type": "stream"
        }
      ],
      "id": "6f9c4854"
    },
    {
      "cell_type": "markdown",
      "source": "Но LUР-разложене для таких матриц работает",
      "metadata": {},
      "id": "18870b29"
    },
    {
      "cell_type": "code",
      "source": "L, U, P =LUP_decomposition(A)\nprint('L =\\n', L)\nprint('U =\\n', U)\nprint('P =\\n', P)",
      "metadata": {
        "trusted": true
      },
      "execution_count": 45,
      "outputs": [
        {
          "name": "stdout",
          "text": "L =\n [[1.  0.  0. ]\n [0.  1.  0. ]\n [7.  1.2 1. ]]\nU =\n [[  10.   20.   30.]\n [   0.  -50.   60.]\n [   0.    0. -192.]]\nP =\n [[1. 0. 0.]\n [0. 1. 0.]\n [0. 0. 1.]]\n",
          "output_type": "stream"
        }
      ],
      "id": "67ef4d55"
    },
    {
      "cell_type": "markdown",
      "source": "Вернём изначальные матрицу и вектор-столбец и проверим время работы функций для нахождения решения СЛАУ с помощью LU-разложения и LUP-разложения",
      "metadata": {},
      "id": "fe338c73"
    },
    {
      "cell_type": "code",
      "source": "A = np.array([[10, 20, 30.], \n              [0, -50, 60.], \n              [70, 80, 90.]])\nx = np.array([[30], \n              [20], \n              [10]])",
      "metadata": {
        "trusted": true
      },
      "execution_count": 25,
      "outputs": [],
      "id": "4bdae0b6"
    },
    {
      "cell_type": "code",
      "source": "%timeit SLAE_LU(A, x)",
      "metadata": {
        "trusted": true
      },
      "execution_count": 26,
      "outputs": [
        {
          "name": "stdout",
          "text": "635 us +- 65.6 us per loop (mean +- std. dev. of 7 runs, 1,000 loops each)\n",
          "output_type": "stream"
        }
      ],
      "id": "088fa4f3"
    },
    {
      "cell_type": "code",
      "source": "%timeit SLAE_LUP(A, x)",
      "metadata": {
        "trusted": true
      },
      "execution_count": 27,
      "outputs": [
        {
          "name": "stdout",
          "text": "681 us +- 36.7 us per loop (mean +- std. dev. of 7 runs, 1,000 loops each)\n",
          "output_type": "stream"
        }
      ],
      "id": "96c9e634"
    },
    {
      "cell_type": "markdown",
      "source": "## Вывод",
      "metadata": {},
      "id": "6b1f6b4d"
    },
    {
      "cell_type": "markdown",
      "source": "1. LU-разложение не подходит для решения СЛАУ, в которых приведение к ступенчатому виду матрицы коэффициентов предполагает перестановку строк, так как возможно появление 0 на главной диагонали, а значит разложение матрицы коэффициаентов на нижнюю треугольную матрицу L и верхнюю треугольную матрицу U невозможно. Однако LUP-разложение подходит для решения таких СЛАУ.\n\n2. Решение СЛАУ с помошью LU-разложения занимет меньше времени, чем решение СЛАУ с помощью LUP-разложения\n\nТаким образом, эффективнее использовать LUP-разложение, так как оно более универсально. Но стоит отметить, что решение с помощью LU-разложения вы найдёте быстрее.",
      "metadata": {},
      "id": "acbd8f4a"
    }
  ]
}