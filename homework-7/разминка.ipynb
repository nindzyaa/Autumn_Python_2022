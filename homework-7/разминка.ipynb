{
  "metadata": {
    "language_info": {
      "codemirror_mode": {
        "name": "python",
        "version": 3
      },
      "file_extension": ".py",
      "mimetype": "text/x-python",
      "name": "python",
      "nbconvert_exporter": "python",
      "pygments_lexer": "ipython3",
      "version": "3.8"
    },
    "kernelspec": {
      "name": "python",
      "display_name": "Pyolite",
      "language": "python"
    },
    "colab": {
      "name": "разминка.ipynb",
      "provenance": [],
      "collapsed_sections": []
    }
  },
  "nbformat_minor": 0,
  "nbformat": 4,
  "cells": [
    {
      "cell_type": "markdown",
      "source": [
        "<h4>Царитова Нина"
      ],
      "metadata": {
        "id": "K-xZfEMfbYHw"
      }
    },
    {
      "cell_type": "markdown",
      "source": [
        "1. Четные индексы "
      ],
      "metadata": {
        "id": "8sC02OPJbYH4"
      }
    },
    {
      "cell_type": "code",
      "source": [
        "print(' '.join(input().split()[::2]))"
      ],
      "metadata": {
        "trusted": true,
        "colab": {
          "base_uri": "https://localhost:8080/"
        },
        "id": "IqWrRtqNbYH5",
        "outputId": "f2ae1068-73e1-47ec-ac95-d6d5c826113e"
      },
      "execution_count": null,
      "outputs": [
        {
          "output_type": "stream",
          "name": "stdout",
          "text": [
            "1 2 3 4 5\n",
            "1 3 5\n"
          ]
        }
      ]
    },
    {
      "cell_type": "markdown",
      "source": [
        "2. Наибольший элемент и его индекс "
      ],
      "metadata": {
        "id": "c7a5maTMbYH7"
      }
    },
    {
      "cell_type": "code",
      "source": [
        "a = list(map(int, input().split()))\n",
        "print(max(a), a.index(max(a)))"
      ],
      "metadata": {
        "colab": {
          "base_uri": "https://localhost:8080/"
        },
        "id": "Th3LSKtRf_vL",
        "outputId": "bdb6b63e-0173-4d6f-8ae4-df99f8e77090"
      },
      "execution_count": null,
      "outputs": [
        {
          "output_type": "stream",
          "name": "stdout",
          "text": [
            "1 2 3\n",
            "3 2\n"
          ]
        }
      ]
    },
    {
      "cell_type": "markdown",
      "source": [
        "3. Вывести в обратном порядке "
      ],
      "metadata": {
        "id": "UuxuHGefbYH8"
      }
    },
    {
      "cell_type": "code",
      "source": [
        "print(' '.join(input().split()[::-1]))"
      ],
      "metadata": {
        "colab": {
          "base_uri": "https://localhost:8080/"
        },
        "id": "_KKPt4kabYH8",
        "outputId": "a1a7674f-87e4-49ad-c466-3d148f7d886d"
      },
      "execution_count": null,
      "outputs": [
        {
          "output_type": "stream",
          "name": "stdout",
          "text": [
            "1 2 3 4 5\n",
            "5 4 3 2 1\n"
          ]
        }
      ]
    },
    {
      "cell_type": "markdown",
      "source": [
        "4. Переставить соседние "
      ],
      "metadata": {
        "id": "c_0qwSW-bYH9"
      }
    },
    {
      "cell_type": "code",
      "source": [
        "a = input().split()\n",
        "a[:-1:2], a[1::2] = a[1::2], a[:-1:2]\n",
        "print(' '.join(a))"
      ],
      "metadata": {
        "id": "bUrQYxLbbYH9",
        "colab": {
          "base_uri": "https://localhost:8080/"
        },
        "outputId": "09d3ca5e-2383-424e-df0b-8c3257637efa"
      },
      "execution_count": null,
      "outputs": [
        {
          "output_type": "stream",
          "name": "stdout",
          "text": [
            "1 2 3 4 5\n",
            "2 1 4 3 5\n"
          ]
        }
      ]
    },
    {
      "cell_type": "markdown",
      "source": [
        "5. Циклический сдвиг вправо "
      ],
      "metadata": {
        "id": "tqOvaac_bYH-"
      }
    },
    {
      "cell_type": "code",
      "source": [
        "a = input().split()\n",
        "print(' '.join(a[1:]), a[0])"
      ],
      "metadata": {
        "id": "HVX2jwoKbYH-",
        "colab": {
          "base_uri": "https://localhost:8080/"
        },
        "outputId": "b73ce461-d362-46c6-8ee1-66eed6f4b267"
      },
      "execution_count": null,
      "outputs": [
        {
          "output_type": "stream",
          "name": "stdout",
          "text": [
            "1 2 3 4 5\n",
            "2 3 4 5 1\n"
          ]
        }
      ]
    },
    {
      "cell_type": "markdown",
      "source": [
        "6. Удалить элемент "
      ],
      "metadata": {
        "id": "Tq8-uU0ubYH-"
      }
    },
    {
      "cell_type": "code",
      "source": [
        "a = input().split()\n",
        "i = int(input())\n",
        "print(' '.join(a[:i] + a[i+1:]))"
      ],
      "metadata": {
        "id": "s2MhUTGUbYH-",
        "colab": {
          "base_uri": "https://localhost:8080/"
        },
        "outputId": "508d23c1-8c1a-4ecf-b790-87e19163993e"
      },
      "execution_count": null,
      "outputs": [
        {
          "output_type": "stream",
          "name": "stdout",
          "text": [
            "1 2 3 4 5\n",
            "2\n",
            "1 2 4 5\n"
          ]
        }
      ]
    },
    {
      "cell_type": "markdown",
      "source": [
        "7. Вставить элемент "
      ],
      "metadata": {
        "id": "_46euxl2bYH_"
      }
    },
    {
      "cell_type": "code",
      "source": [
        "a = input().split()\n",
        "n, elem = map(int, input().split())\n",
        "print(' '.join(a[:n]), elem, ' '.join(a[n:]))"
      ],
      "metadata": {
        "id": "mD6GnE72bYH_",
        "colab": {
          "base_uri": "https://localhost:8080/"
        },
        "outputId": "4c6c7899-8197-47e7-cc18-bbe0d9fcc753"
      },
      "execution_count": null,
      "outputs": [
        {
          "output_type": "stream",
          "name": "stdout",
          "text": [
            "1 2 3 4 5\n",
            "2 10\n",
            "1 2 10 3 4 5\n"
          ]
        }
      ]
    },
    {
      "cell_type": "markdown",
      "source": [
        "8. Большой сдвиг \n"
      ],
      "metadata": {
        "id": "O9RsumV9bYH_"
      }
    },
    {
      "cell_type": "code",
      "source": [
        "a, i = input().split(), int(input())\n",
        "print(' '.join(a[i-1:] + a[:i-1]))"
      ],
      "metadata": {
        "colab": {
          "base_uri": "https://localhost:8080/"
        },
        "id": "vgVvyAG6bYIA",
        "outputId": "4471e40c-9cd0-4cf3-a31a-2aca54f5580a"
      },
      "execution_count": null,
      "outputs": [
        {
          "output_type": "stream",
          "name": "stdout",
          "text": [
            "5 3 7 4 6\n",
            "3\n",
            "7 4 6 5 3\n"
          ]
        }
      ]
    }
  ]
}