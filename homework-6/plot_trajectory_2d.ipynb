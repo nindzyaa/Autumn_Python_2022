{
  "nbformat": 4,
  "nbformat_minor": 0,
  "metadata": {
    "colab": {
      "provenance": [],
      "authorship_tag": "ABX9TyNZbw+mkC2XLZxiRJjif/2K",
      "include_colab_link": true
    },
    "kernelspec": {
      "name": "python3",
      "display_name": "Python 3"
    },
    "language_info": {
      "name": "python"
    }
  },
  "cells": [
    {
      "cell_type": "markdown",
      "metadata": {
        "id": "view-in-github",
        "colab_type": "text"
      },
      "source": [
        "<a href=\"https://colab.research.google.com/github/nindzyaa/Autumn_Python_2022/blob/main/homework-6/plot_trajectory_2d.ipynb\" target=\"_parent\"><img src=\"https://colab.research.google.com/assets/colab-badge.svg\" alt=\"Open In Colab\"/></a>"
      ]
    },
    {
      "cell_type": "code",
      "execution_count": 7,
      "metadata": {
        "id": "RtXPyhuxRZne"
      },
      "outputs": [],
      "source": [
        "import numpy as np\n",
        "import matplotlib\n",
        "import matplotlib.pyplot as plt\n",
        "import matplotlib.cm as cm\n",
        "\n",
        "def plot_levels(func, xrange=None, yrange=None, levels=None):\n",
        "    \"\"\"\n",
        "    Plotting the contour lines of the function.\n",
        "\n",
        "    Example:\n",
        "    --------\n",
        "    >> oracle = oracles.QuadraticOracle(np.array([[1.0, 2.0], [2.0, 5.0]]), np.zeros(2))\n",
        "    >> plot_levels(oracle.func)\n",
        "    \"\"\"\n",
        "    if xrange is None:\n",
        "        xrange = [-6, 6]\n",
        "    if yrange is None:\n",
        "        yrange = [-5, 5]\n",
        "    if levels is None:\n",
        "        levels = [0, 0.25, 1, 4, 9, 16, 25]\n",
        "        \n",
        "    x = np.linspace(xrange[0], xrange[1], 100)\n",
        "    y = np.linspace(yrange[0], yrange[1], 100)\n",
        "    X, Y = np.meshgrid(x, y)\n",
        "    Z = np.zeros(X.shape)\n",
        "    for i in range(Z.shape[0]):\n",
        "        for j in range(Z.shape[1]):\n",
        "            Z[i, j] = func(np.array([X[i, j], Y[i, j]]))\n",
        "\n",
        "    CS = plt.contour(X, Y, Z, levels=levels, colors='k', linewidth=4.0)\n",
        "    plt.clabel(CS, inline=1, fontsize=8) \n",
        "    plt.grid()              \n",
        "\n",
        "        \n",
        "def plot_trajectory(func, history, fit_axis=False, label=None):\n",
        "    \"\"\"\n",
        "    Plotting the trajectory of a method. \n",
        "    Use after plot_levels(...).\n",
        "\n",
        "    Example:\n",
        "    --------\n",
        "    >> oracle = oracles.QuadraticOracle(np.array([[1.0, 2.0], [2.0, 5.0]]), np.zeros(2))\n",
        "    >> [x_star, msg, history] = optimization.gradient_descent(oracle, np.array([3.0, 1.5], trace=True)\n",
        "    >> plot_levels(oracle.func)\n",
        "    >> plot_trajectory(oracle.func, history['x'])\n",
        "    \"\"\"\n",
        "    x_values, y_values = zip(*history)\n",
        "    plt.plot(x_values, y_values, '-v', linewidth=5.0, ms=12.0, \n",
        "             alpha=1.0, c='r', label=label)\n",
        "    \n",
        "    # Tries to adapt axis-ranges for the trajectory:\n",
        "    if fit_axis:\n",
        "        xmax, ymax = np.max(x_values), np.max(y_values)\n",
        "        COEF = 1.5\n",
        "        xrange = [-xmax * COEF, xmax * COEF]\n",
        "        yrange = [-ymax * COEF, ymax * COEF]\n",
        "        plt.xlim(xrange)\n",
        "        plt.ylim(yrange)\n"
      ]
    }
  ]
}