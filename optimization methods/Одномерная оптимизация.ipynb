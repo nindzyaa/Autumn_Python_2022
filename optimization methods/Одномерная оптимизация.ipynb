{
  "nbformat": 4,
  "nbformat_minor": 0,
  "metadata": {
    "colab": {
      "provenance": [],
      "authorship_tag": "ABX9TyOzsajil8TAH0kJLlp5udoF",
      "include_colab_link": true
    },
    "kernelspec": {
      "name": "python3",
      "display_name": "Python 3"
    },
    "language_info": {
      "name": "python"
    }
  },
  "cells": [
    {
      "cell_type": "markdown",
      "metadata": {
        "id": "view-in-github",
        "colab_type": "text"
      },
      "source": [
        "<a href=\"https://colab.research.google.com/github/nindzyaa/Autumn_Python_2022/blob/main/optimization%20methods/%D0%9E%D0%B4%D0%BD%D0%BE%D0%BC%D0%B5%D1%80%D0%BD%D0%B0%D1%8F%20%D0%BE%D0%BF%D1%82%D0%B8%D0%BC%D0%B8%D0%B7%D0%B0%D1%86%D0%B8%D1%8F.ipynb\" target=\"_parent\"><img src=\"https://colab.research.google.com/assets/colab-badge.svg\" alt=\"Open In Colab\"/></a>"
      ]
    },
    {
      "cell_type": "markdown",
      "source": [
        "**№17.78**"
      ],
      "metadata": {
        "id": "A-mtYZzK29Ul"
      }
    },
    {
      "cell_type": "code",
      "execution_count": 148,
      "metadata": {
        "id": "ZntXRAtN2tlU"
      },
      "outputs": [],
      "source": [
        "import matplotlib.pyplot as plt\n",
        "import numpy as np"
      ]
    },
    {
      "cell_type": "code",
      "source": [
        "def f(x):\n",
        "    return x**4 + x**2 + x + 1\n",
        "    \n",
        "def d_f(x):\n",
        "    return 4 * x**3 + 2 * x + 1\n",
        "    \n",
        "a = -1\n",
        "b = 2\n",
        "\n",
        "epsilon = 0.01"
      ],
      "metadata": {
        "id": "6u-U5Vzc2wqp"
      },
      "execution_count": 153,
      "outputs": []
    },
    {
      "cell_type": "markdown",
      "source": [
        "### Проверка выпуклости функции\n",
        "Функция f является выпуклой на отрезке [a, b] , если для любого  α ∈ [0, 1] и любых x1 , x2  ∈ [a, b] выполняется условие:<br>\n",
        "f(α * x1 + (1-α) * x2) <= α * f(x1) + (1-α) * f(x2)"
      ],
      "metadata": {
        "id": "rDj7g9k_3ZHD"
      }
    },
    {
      "cell_type": "code",
      "source": [
        "discr = 0.5\n",
        "Alpha = np.linspace(0, 1, int(1 / discr) + 1)\n",
        "X = np.linspace(a, b, int((b - a) / discr) + 1)\n",
        "prov = True\n",
        "for i in range(len(Alpha)): \n",
        "    for j in range(len(X)):\n",
        "        for k in range(len(X)):\n",
        "            alpha = Alpha[i]\n",
        "            x1 = X[j]\n",
        "            x2 = X[k]\n",
        "            if x1 != x2 and f(alpha*x1 + (1-alpha)*x2) > alpha*f(x1) + (1-alpha)*f(x2):\n",
        "                print(alpha, x1, x2)\n",
        "                prov = False\n",
        "if prov:\n",
        "    print(f'На отрезке [{a}; {b}] функция f является выпуклой,\\nметод касательных поиска минимума функции является применимым.')\n",
        "else:\n",
        "    print('Условие выпуклости функции f не выполняется, метод касательных неприменим.')"
      ],
      "metadata": {
        "colab": {
          "base_uri": "https://localhost:8080/"
        },
        "id": "SLjhi0Sz3YlJ",
        "outputId": "7500522a-f38e-433c-a85a-626838736aec"
      },
      "execution_count": 154,
      "outputs": [
        {
          "output_type": "stream",
          "name": "stdout",
          "text": [
            "На отрезке [-1; 2] функция f является выпуклой,\n",
            "метод касательных поиска минимума функции является применимым.\n"
          ]
        }
      ]
    },
    {
      "cell_type": "markdown",
      "source": [
        "Если f′(a) >= 0 или f′(b) <= 0, то точка a либо точка b является точкой минимума соответственно, тогда задача решена.<br>\n",
        "Критерий точности |f′($c_n$)| <= 0.01"
      ],
      "metadata": {
        "id": "w8olOsVu6Vzk"
      }
    },
    {
      "cell_type": "code",
      "source": [
        "iteration = 0\n",
        "a1 = a\n",
        "b1 = b \n",
        "\n",
        "# проверка условия |f′(b)| <= epsilon\n",
        "if d_f(b) <= epsilon:  \n",
        "    c = b\n",
        "    d_fc = d_f(c)\n",
        "else:\n",
        "    c = a\n",
        "    d_fc = d_f(a)\n",
        "\n",
        "# проверка условия |f′(a)| <= epsilon\n",
        "    if d_fc < -epsilon: \n",
        "        while abs(d_fc) > epsilon: \n",
        "            c = (f(a) - f(b) + b * d_f(b) - a * d_f(a)) / (d_f(b) - d_f(a))\n",
        "            d_fc = d_f(c)\n",
        "            #print('Итерация', iteration + 1, ' a =', round(a,3), ' b =', round(b,3), '  c =', round(c,3), ' d_f(c) =', round(d_fc,3))\n",
        "\n",
        "            if d_fc > 0:\n",
        "                b = c  # Если f′(c) > 0, то для следующей итерации принимаем b = c (точка a остаётся прежней)\n",
        "            else:      # иначе для следующей итерации принимаем a = c (точка b остаётся прежней)\n",
        "                a = c  # Здесь не проверяется условие |f′(c)| <= epsilon,\n",
        "                       # поскольку оно записано как условие цикла\n",
        "            iteration += 1\n",
        "\n",
        "print('Количество итераций =',iteration)\n",
        "print('Точка минимума c =', round(c,3))\n",
        "print(f\"Производная f'(c) =\", round(d_fc,3))\n",
        "print(\"f(c) =\", round(f(c),3))"
      ],
      "metadata": {
        "colab": {
          "base_uri": "https://localhost:8080/"
        },
        "id": "YvaZs5Qn3Y2v",
        "outputId": "f0f4ce0c-8e60-4c55-ecbc-156897397adc"
      },
      "execution_count": 155,
      "outputs": [
        {
          "output_type": "stream",
          "name": "stdout",
          "text": [
            "Количество итераций = 8\n",
            "Точка минимума c = -0.386\n",
            "Производная f'(c) = -0.002\n",
            "f(c) = 0.785\n"
          ]
        }
      ]
    },
    {
      "cell_type": "markdown",
      "source": [
        "## График"
      ],
      "metadata": {
        "id": "7XKyINqZHV9o"
      }
    },
    {
      "cell_type": "code",
      "source": [
        "x = np.linspace(-1, 2, 100)\n",
        "f_x = f(x)\n",
        "def_f = d_f(x)\n",
        "kasat = f(c) + d_f(c) * (x - c)\n",
        "plt.plot(x, f_x, label = 'Функция' )\n",
        "plt.plot(x, def_f, label = 'Производная')\n",
        "plt.plot(x, kasat, label = 'Касательная в точке минимума')\n",
        "plt.legend()\n",
        "plt.grid(True)"
      ],
      "metadata": {
        "colab": {
          "base_uri": "https://localhost:8080/",
          "height": 265
        },
        "id": "ErC74Tlw7WI4",
        "outputId": "aa83e27d-80f7-4ca3-eb72-58fa22761788"
      },
      "execution_count": 156,
      "outputs": [
        {
          "output_type": "display_data",
          "data": {
            "text/plain": [
              "<Figure size 432x288 with 1 Axes>"
            ],
            "image/png": "[encoded data removed]"
          },
          "metadata": {
            "needs_background": "light"
          }
        }
      ]
    }
  ]
}