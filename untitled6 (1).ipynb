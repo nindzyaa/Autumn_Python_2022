{
  "metadata": {
    "colab": {
      "provenance": []
    },
    "kernelspec": {
      "name": "python",
      "display_name": "Python (Pyodide)",
      "language": "python"
    },
    "language_info": {
      "codemirror_mode": {
        "name": "python",
        "version": 3
      },
      "file_extension": ".py",
      "mimetype": "text/x-python",
      "name": "python",
      "nbconvert_exporter": "python",
      "pygments_lexer": "ipython3",
      "version": "3.8"
    }
  },
  "nbformat_minor": 4,
  "nbformat": 4,
  "cells": [
    {
      "cell_type": "markdown",
      "source": "## Метод наименьших квадратов",
      "metadata": {
        "id": "4J_7ccJ_UgU3"
      }
    },
    {
      "cell_type": "markdown",
      "source": "***Царитова Нина*** <BR>\n*НПМбд-01-19*",
      "metadata": {
        "id": "C5sETPpYU5EV"
      }
    },
    {
      "cell_type": "code",
      "source": "import numpy as np\nfrom matplotlib import pyplot as plt",
      "metadata": {
        "id": "p6Pd00KGICRo",
        "trusted": true
      },
      "execution_count": 2,
      "outputs": []
    },
    {
      "cell_type": "markdown",
      "source": "Рассмотрим  функцию на отрезке [1,15]: <br> <center> $f (x) = sin\\frac{x}{5}*e^{\\frac{x}{10}} + 5 e^{-\\frac{1}{2} x}$",
      "metadata": {
        "id": "thVMH6bjZNSh"
      }
    },
    {
      "cell_type": "markdown",
      "source": "Будем  находить  приближение  функции многочленом $w_0$ + $w_1$ $x$ +  $w_2$ $x^{2}$ + $w_2$ $x^{3}$ + ... + $w_{n-1}$ $x^{n-1}$",
      "metadata": {
        "id": "xDptVU0Qb3kL"
      }
    },
    {
      "cell_type": "markdown",
      "source": "## 1. Полиномиальная регрессия",
      "metadata": {
        "id": "l2ki_PBYdaXG"
      }
    },
    {
      "cell_type": "markdown",
      "source": "Как  известно,  многочлен  степени n - 1 однозначно определяется любыми n различными точками, через которые он проходит. Это значит, что его n неизвестных коэффициентовможно определить из следующей системы линейных уравнений: <br> \\begin{cases} w_0 + w_1 x_1 +  w_2 x_1^{2} + w_2 x_1^{3} + ... + w_{n-1} x_1^{n-1} = f (x_1)\\\\...\\\\w_0 + w_1 x_n +  w_2 x_n^{2} + w_2 x_n^{3} + ... + w_{n-1} x_n^{n-1} = f (x_n)\\end{cases}",
      "metadata": {
        "id": "BBtbBr_NdiZz"
      }
    },
    {
      "cell_type": "markdown",
      "source": "Создадим функцию для нахождения коэффициентов полинома. В матрицу А будут записаны соответствующие значения степеней $x_i$, в вектор b - значения. Искомые коэффициенты будут решением системы $Ax=b$",
      "metadata": {
        "id": "v6Ve5sI4f7Hz"
      }
    },
    {
      "cell_type": "code",
      "source": "def f(x):\n    return np.sin(x / 5) * np.exp(x / 10) + 5 * np.exp(-x / 2)\n\ndef compute_polynomial_coeffs(n):\n    '''\n    n - количество точек\n    '''\n    xx = np.linspace(1, 15, n)\n    yy = f(xx)\n    b = yy\n    A = np.zeros((n, n))\n    for i in range(n):\n        A[:,i] = xx**i\n    return np.linalg.solve(A, b)\n\ndef polynome(w, x):\n    n = len(w)\n    result = 0\n    for i in range(n):\n        result += w[i] * x**i\n    return result",
      "metadata": {
        "id": "KMxPf7daIJdZ",
        "trusted": true
      },
      "execution_count": 7,
      "outputs": []
    },
    {
      "cell_type": "code",
      "source": "n = 4\nw = compute_polynomial_coeffs(n)\nxx = np.linspace(1, 15, 100)\nplt.plot(xx, f(xx), label='f(x)', color = 'orange')\nplt.plot(xx, polynome(w, xx), '--', label='polynome', color = 'red')\nx_points = np.linspace(1, 15, n)\ny_points = f(x_points)\nplt.plot(x_points, y_points, 'o', label='points', color = 'blue')\nplt.legend()\nplt.grid()",
      "metadata": {
        "colab": {
          "base_uri": "https://localhost:8080/",
          "height": 265
        },
        "id": "WWxNhKxxhsCQ",
        "outputId": "8f6f4464-fddc-410a-c0ac-c11767e05e06",
        "trusted": true
      },
      "execution_count": 8,
      "outputs": []
    },
    {
      "cell_type": "code",
      "source": "n = 15\nw = compute_polynomial_coeffs(n)\nxx = np.linspace(1, 15, 100)\nplt.plot(xx, f(xx), label='f(x)', color = 'orange')\nplt.plot(xx, polynome(w, xx), '--', label='polynome', color = 'red')\nx_points = np.linspace(1, 15, n)\ny_points = f(x_points)\nplt.plot(x_points, y_points, 'o', label='points', color = 'blue')\nplt.legend()\nplt.grid()",
      "metadata": {
        "colab": {
          "base_uri": "https://localhost:8080/",
          "height": 265
        },
        "id": "LpKVXOkgIk0T",
        "outputId": "40d78218-85d6-40bf-b01e-9586b8a575c6",
        "trusted": true
      },
      "execution_count": 9,
      "outputs": []
    },
    {
      "cell_type": "markdown",
      "source": "## 2. Полиномиальная регрессия с зашумлёнными данными",
      "metadata": {
        "id": "t2A50IqbhUFd"
      }
    },
    {
      "cell_type": "code",
      "source": "def compute_polynomial_coeffs(xx, yy):\n    '''\n    xx, yy - набор точек и значений неизвестной функции\n    '''\n    n = len(xx)\n    b = yy\n    A = np.zeros((n, n))\n    for i in range(n):\n        A[:,i] = xx**i\n    return np.linalg.solve(A, b)\n\ndef polynome(w, x):\n    n = len(w)\n    result = 0\n    for i in range(n):\n        result += w[i] * x**i\n    return result",
      "metadata": {
        "id": "LaN6uNq4Ilkz",
        "trusted": true
      },
      "execution_count": 10,
      "outputs": []
    },
    {
      "cell_type": "code",
      "source": "n = 4\nnoise = 0.1\nx_points = np.linspace(1, 15, n)\ny_points = f(x_points) + np.random.randn(n) * noise\n\nw = compute_polynomial_coeffs(x_points, y_points)\n\nxx = np.linspace(1, 15, 100)\nplt.plot(xx, f(xx), label='f(x)', color = 'orange')\nplt.plot(xx, polynome(w, xx), '--', label='polynome', color = 'red')\nplt.plot(x_points, y_points, 'o', label='points', color = 'blue')\nplt.legend()\nplt.grid()",
      "metadata": {
        "colab": {
          "base_uri": "https://localhost:8080/",
          "height": 265
        },
        "id": "MKse7juJh5fZ",
        "outputId": "51664964-354f-43c4-8572-bc28ce5f421c",
        "trusted": true
      },
      "execution_count": 11,
      "outputs": []
    },
    {
      "cell_type": "code",
      "source": "n = 15\nnoise = 0.1\nx_points = np.linspace(1, 15, n)\ny_points = f(x_points) + np.random.randn(n) * noise\n\nw = compute_polynomial_coeffs(x_points, y_points)\n\nxx = np.linspace(1, 15, 100)\nplt.plot(xx, f(xx), label='f(x)', color = 'orange')\nplt.plot(xx, polynome(w, xx), '--', label='polynome', color = 'red')\nplt.plot(x_points, y_points, 'o', label='points', color = 'blue')\nplt.legend()\nplt.grid()",
      "metadata": {
        "colab": {
          "base_uri": "https://localhost:8080/",
          "height": 265
        },
        "id": "y1N8SwhVJOiB",
        "outputId": "3c6cbdc3-31c0-44db-e4d2-461beb5ea9be",
        "trusted": true
      },
      "execution_count": 12,
      "outputs": []
    },
    {
      "cell_type": "markdown",
      "source": "## 3. Метод наименьших квадратов",
      "metadata": {
        "id": "8kjVvC37niaK"
      }
    },
    {
      "cell_type": "markdown",
      "source": "Решение можно найти с помощью матрицы Мура-Пенроуза: $x = A^+ b = (A^T A)^{-1} A^T b$",
      "metadata": {
        "id": "eEIHTJ4XnivF"
      }
    },
    {
      "cell_type": "code",
      "source": "def mnk(xx, yy):\n    '''\n    xx, yy - набор точек и значений неизвестной функции\n    '''\n    n = len(xx)\n    b = yy\n    A = np.ones([n, 5])\n    for i in range(1, 5):\n        A[:, i] = xx ** i\n    return np.linalg.inv(A.transpose().dot(A)).dot(A.transpose()).dot(b)\n\ndef polynome(w, x):\n    n = len(w)\n    result = 0\n    for i in range(n):\n        result += w[i] * x**i\n    return result\n    \nn = 100\nnoise = 0.1\nx_points = np.linspace(1, 15, n)\ny_points = f(x_points) + np.random.randn(n) * noise\n\nw = mnk(x_points, y_points)\n\nxx = np.linspace(1, 15, 100)\nplt.plot(x_points, f(x_points), label='f(x)', color = 'blue')\nplt.plot(x_points, polynome(w, x_points), '--', label='polynome', color = 'red')\nplt.plot(x_points, y_points, 'o', label='points', color = 'orange', markersize = 3)\nplt.legend()\nplt.grid()",
      "metadata": {
        "colab": {
          "base_uri": "https://localhost:8080/",
          "height": 265
        },
        "id": "tC-a-teBJYAJ",
        "outputId": "0db5c651-ad95-4a31-d26d-552edb2a0188",
        "trusted": true
      },
      "execution_count": 13,
      "outputs": []
    }
  ]
}